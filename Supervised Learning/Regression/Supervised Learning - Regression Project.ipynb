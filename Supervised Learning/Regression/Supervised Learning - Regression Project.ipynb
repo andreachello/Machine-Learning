{
 "cells": [
  {
   "cell_type": "markdown",
   "id": "19b3b8e5",
   "metadata": {},
   "source": [
    "# Supervised Learning - Regression Project"
   ]
  },
  {
   "cell_type": "markdown",
   "id": "189df3da",
   "metadata": {},
   "source": [
    "- Main objective of the analysis that specifies whether your model will be focused on prediction or interpretation.\n",
    "\n",
    "- Brief description of the data set you chose and a summary of its attributes.\n",
    "\n",
    "- Brief summary of data exploration and actions taken for data cleaning and feature engineering.\n",
    "\n",
    "- Summary of training at least three linear regression models which should be variations that cover using a simple linear regression as a baseline, adding polynomial effects, and using a regularization regression. Preferably, all use the same training and test splits, or the same cross-validation method.\n",
    "\n",
    "- A paragraph explaining which of your regressions you recommend as a final model that best fits your needs in terms of accuracy and explainability.\n",
    "\n",
    "- Summary Key Findings and Insights, which walks your reader through the main drivers of your model and insights from your data derived from your linear regression model.\n",
    "\n",
    "- Suggestions for next steps in analyzing this data, which may include suggesting revisiting this model adding specific data features to achieve a better explanation or a better prediction."
   ]
  },
  {
   "cell_type": "markdown",
   "id": "6c2ee795",
   "metadata": {},
   "source": [
    "Dataset\n",
    "\n",
    "The data set chosen will be the Ames_Housing_Sales dataset. It containes 1378 rows and 80 columns of data with 43 categorical columns, 21 float columns and 16 integer columns.\n",
    "\n",
    "Data Exploration\n",
    "\n",
    "I chose to take a brief overview of the summary statistics (mean, standard deviation etc.) of the entire dataset, just to have an idea of the differences across columns. I then applied one hot encoding in order to come up with 251 additional dummy variable columns, dropping the 43 initial categorical columns. I then transformed the float columns using log-transformation for skews larger than 0.75 in order to eliminate the skews and normalize the features."
   ]
  },
  {
   "cell_type": "markdown",
   "id": "6baca5f3",
   "metadata": {},
   "source": [
    "# Data Exploration and Feature Engineering"
   ]
  },
  {
   "cell_type": "code",
   "execution_count": 11,
   "id": "e40f6446",
   "metadata": {},
   "outputs": [],
   "source": [
    "import pandas as pd\n",
    "import numpy as np\n",
    "import matplotlib.pyplot as plt\n",
    "import seaborn as sns\n",
    "%matplotlib inline\n",
    "\n",
    "# Import the data using the file path\n",
    "\n",
    "data = pd.read_csv('Ames_Housing_Sales.csv')"
   ]
  },
  {
   "cell_type": "code",
   "execution_count": 2,
   "id": "107f94ca",
   "metadata": {},
   "outputs": [
    {
     "name": "stdout",
     "output_type": "stream",
     "text": [
      "Number of rows in the data: 1379\n",
      "Number of columns in the data: 80\n"
     ]
    }
   ],
   "source": [
    "print(\"Number of rows in the data:\", data.shape[0])\n",
    "print(\"Number of columns in the data:\", data.shape[1])"
   ]
  },
  {
   "cell_type": "code",
   "execution_count": 3,
   "id": "938329f9",
   "metadata": {},
   "outputs": [
    {
     "data": {
      "text/plain": [
       "object     43\n",
       "float64    21\n",
       "int64      16\n",
       "dtype: int64"
      ]
     },
     "execution_count": 3,
     "metadata": {},
     "output_type": "execute_result"
    }
   ],
   "source": [
    "data.dtypes.value_counts()"
   ]
  },
  {
   "cell_type": "code",
   "execution_count": 5,
   "id": "b1f3c5e3",
   "metadata": {},
   "outputs": [
    {
     "data": {
      "text/html": [
       "<div>\n",
       "<style scoped>\n",
       "    .dataframe tbody tr th:only-of-type {\n",
       "        vertical-align: middle;\n",
       "    }\n",
       "\n",
       "    .dataframe tbody tr th {\n",
       "        vertical-align: top;\n",
       "    }\n",
       "\n",
       "    .dataframe thead th {\n",
       "        text-align: right;\n",
       "    }\n",
       "</style>\n",
       "<table border=\"1\" class=\"dataframe\">\n",
       "  <thead>\n",
       "    <tr style=\"text-align: right;\">\n",
       "      <th></th>\n",
       "      <th>1stFlrSF</th>\n",
       "      <th>2ndFlrSF</th>\n",
       "      <th>3SsnPorch</th>\n",
       "      <th>BedroomAbvGr</th>\n",
       "      <th>BsmtFinSF1</th>\n",
       "      <th>BsmtFinSF2</th>\n",
       "      <th>BsmtFullBath</th>\n",
       "      <th>BsmtHalfBath</th>\n",
       "      <th>BsmtUnfSF</th>\n",
       "      <th>EnclosedPorch</th>\n",
       "      <th>...</th>\n",
       "      <th>OverallQual</th>\n",
       "      <th>PoolArea</th>\n",
       "      <th>ScreenPorch</th>\n",
       "      <th>TotRmsAbvGrd</th>\n",
       "      <th>TotalBsmtSF</th>\n",
       "      <th>WoodDeckSF</th>\n",
       "      <th>YearBuilt</th>\n",
       "      <th>YearRemodAdd</th>\n",
       "      <th>YrSold</th>\n",
       "      <th>SalePrice</th>\n",
       "    </tr>\n",
       "  </thead>\n",
       "  <tbody>\n",
       "    <tr>\n",
       "      <th>count</th>\n",
       "      <td>1379.000000</td>\n",
       "      <td>1379.000000</td>\n",
       "      <td>1379.000000</td>\n",
       "      <td>1379.000000</td>\n",
       "      <td>1379.000000</td>\n",
       "      <td>1379.000000</td>\n",
       "      <td>1379.000000</td>\n",
       "      <td>1379.000000</td>\n",
       "      <td>1379.000000</td>\n",
       "      <td>1379.000000</td>\n",
       "      <td>...</td>\n",
       "      <td>1379.000000</td>\n",
       "      <td>1379.000000</td>\n",
       "      <td>1379.000000</td>\n",
       "      <td>1379.000000</td>\n",
       "      <td>1379.000000</td>\n",
       "      <td>1379.000000</td>\n",
       "      <td>1379.000000</td>\n",
       "      <td>1379.000000</td>\n",
       "      <td>1379.000000</td>\n",
       "      <td>1379.00000</td>\n",
       "    </tr>\n",
       "    <tr>\n",
       "      <th>mean</th>\n",
       "      <td>1177.129804</td>\n",
       "      <td>353.424946</td>\n",
       "      <td>3.609862</td>\n",
       "      <td>2.865120</td>\n",
       "      <td>455.578680</td>\n",
       "      <td>48.102248</td>\n",
       "      <td>0.430747</td>\n",
       "      <td>0.058738</td>\n",
       "      <td>570.765047</td>\n",
       "      <td>21.039159</td>\n",
       "      <td>...</td>\n",
       "      <td>6.187092</td>\n",
       "      <td>2.920957</td>\n",
       "      <td>15.945613</td>\n",
       "      <td>6.552574</td>\n",
       "      <td>1074.445975</td>\n",
       "      <td>97.456853</td>\n",
       "      <td>1972.958666</td>\n",
       "      <td>1985.435098</td>\n",
       "      <td>2007.812183</td>\n",
       "      <td>185479.51124</td>\n",
       "    </tr>\n",
       "    <tr>\n",
       "      <th>std</th>\n",
       "      <td>387.014961</td>\n",
       "      <td>439.553171</td>\n",
       "      <td>30.154682</td>\n",
       "      <td>0.783961</td>\n",
       "      <td>459.691379</td>\n",
       "      <td>164.324665</td>\n",
       "      <td>0.514052</td>\n",
       "      <td>0.238285</td>\n",
       "      <td>443.677845</td>\n",
       "      <td>60.535107</td>\n",
       "      <td>...</td>\n",
       "      <td>1.345780</td>\n",
       "      <td>41.335545</td>\n",
       "      <td>57.249593</td>\n",
       "      <td>1.589821</td>\n",
       "      <td>436.371874</td>\n",
       "      <td>126.699192</td>\n",
       "      <td>29.379883</td>\n",
       "      <td>20.444852</td>\n",
       "      <td>1.330221</td>\n",
       "      <td>79023.89060</td>\n",
       "    </tr>\n",
       "    <tr>\n",
       "      <th>min</th>\n",
       "      <td>438.000000</td>\n",
       "      <td>0.000000</td>\n",
       "      <td>0.000000</td>\n",
       "      <td>0.000000</td>\n",
       "      <td>0.000000</td>\n",
       "      <td>0.000000</td>\n",
       "      <td>0.000000</td>\n",
       "      <td>0.000000</td>\n",
       "      <td>0.000000</td>\n",
       "      <td>0.000000</td>\n",
       "      <td>...</td>\n",
       "      <td>2.000000</td>\n",
       "      <td>0.000000</td>\n",
       "      <td>0.000000</td>\n",
       "      <td>3.000000</td>\n",
       "      <td>0.000000</td>\n",
       "      <td>0.000000</td>\n",
       "      <td>1880.000000</td>\n",
       "      <td>1950.000000</td>\n",
       "      <td>2006.000000</td>\n",
       "      <td>35311.00000</td>\n",
       "    </tr>\n",
       "    <tr>\n",
       "      <th>25%</th>\n",
       "      <td>894.000000</td>\n",
       "      <td>0.000000</td>\n",
       "      <td>0.000000</td>\n",
       "      <td>2.000000</td>\n",
       "      <td>0.000000</td>\n",
       "      <td>0.000000</td>\n",
       "      <td>0.000000</td>\n",
       "      <td>0.000000</td>\n",
       "      <td>228.000000</td>\n",
       "      <td>0.000000</td>\n",
       "      <td>...</td>\n",
       "      <td>5.000000</td>\n",
       "      <td>0.000000</td>\n",
       "      <td>0.000000</td>\n",
       "      <td>5.000000</td>\n",
       "      <td>810.000000</td>\n",
       "      <td>0.000000</td>\n",
       "      <td>1955.000000</td>\n",
       "      <td>1968.000000</td>\n",
       "      <td>2007.000000</td>\n",
       "      <td>134000.00000</td>\n",
       "    </tr>\n",
       "    <tr>\n",
       "      <th>50%</th>\n",
       "      <td>1098.000000</td>\n",
       "      <td>0.000000</td>\n",
       "      <td>0.000000</td>\n",
       "      <td>3.000000</td>\n",
       "      <td>400.000000</td>\n",
       "      <td>0.000000</td>\n",
       "      <td>0.000000</td>\n",
       "      <td>0.000000</td>\n",
       "      <td>476.000000</td>\n",
       "      <td>0.000000</td>\n",
       "      <td>...</td>\n",
       "      <td>6.000000</td>\n",
       "      <td>0.000000</td>\n",
       "      <td>0.000000</td>\n",
       "      <td>6.000000</td>\n",
       "      <td>1008.000000</td>\n",
       "      <td>0.000000</td>\n",
       "      <td>1976.000000</td>\n",
       "      <td>1994.000000</td>\n",
       "      <td>2008.000000</td>\n",
       "      <td>167500.00000</td>\n",
       "    </tr>\n",
       "    <tr>\n",
       "      <th>75%</th>\n",
       "      <td>1414.000000</td>\n",
       "      <td>738.500000</td>\n",
       "      <td>0.000000</td>\n",
       "      <td>3.000000</td>\n",
       "      <td>732.000000</td>\n",
       "      <td>0.000000</td>\n",
       "      <td>1.000000</td>\n",
       "      <td>0.000000</td>\n",
       "      <td>811.000000</td>\n",
       "      <td>0.000000</td>\n",
       "      <td>...</td>\n",
       "      <td>7.000000</td>\n",
       "      <td>0.000000</td>\n",
       "      <td>0.000000</td>\n",
       "      <td>7.000000</td>\n",
       "      <td>1314.000000</td>\n",
       "      <td>171.000000</td>\n",
       "      <td>2001.000000</td>\n",
       "      <td>2004.000000</td>\n",
       "      <td>2009.000000</td>\n",
       "      <td>217750.00000</td>\n",
       "    </tr>\n",
       "    <tr>\n",
       "      <th>max</th>\n",
       "      <td>4692.000000</td>\n",
       "      <td>2065.000000</td>\n",
       "      <td>508.000000</td>\n",
       "      <td>6.000000</td>\n",
       "      <td>5644.000000</td>\n",
       "      <td>1474.000000</td>\n",
       "      <td>2.000000</td>\n",
       "      <td>2.000000</td>\n",
       "      <td>2336.000000</td>\n",
       "      <td>552.000000</td>\n",
       "      <td>...</td>\n",
       "      <td>10.000000</td>\n",
       "      <td>738.000000</td>\n",
       "      <td>480.000000</td>\n",
       "      <td>12.000000</td>\n",
       "      <td>6110.000000</td>\n",
       "      <td>857.000000</td>\n",
       "      <td>2010.000000</td>\n",
       "      <td>2010.000000</td>\n",
       "      <td>2010.000000</td>\n",
       "      <td>755000.00000</td>\n",
       "    </tr>\n",
       "  </tbody>\n",
       "</table>\n",
       "<p>8 rows × 37 columns</p>\n",
       "</div>"
      ],
      "text/plain": [
       "          1stFlrSF     2ndFlrSF    3SsnPorch  BedroomAbvGr   BsmtFinSF1  \\\n",
       "count  1379.000000  1379.000000  1379.000000   1379.000000  1379.000000   \n",
       "mean   1177.129804   353.424946     3.609862      2.865120   455.578680   \n",
       "std     387.014961   439.553171    30.154682      0.783961   459.691379   \n",
       "min     438.000000     0.000000     0.000000      0.000000     0.000000   \n",
       "25%     894.000000     0.000000     0.000000      2.000000     0.000000   \n",
       "50%    1098.000000     0.000000     0.000000      3.000000   400.000000   \n",
       "75%    1414.000000   738.500000     0.000000      3.000000   732.000000   \n",
       "max    4692.000000  2065.000000   508.000000      6.000000  5644.000000   \n",
       "\n",
       "        BsmtFinSF2  BsmtFullBath  BsmtHalfBath    BsmtUnfSF  EnclosedPorch  \\\n",
       "count  1379.000000   1379.000000   1379.000000  1379.000000    1379.000000   \n",
       "mean     48.102248      0.430747      0.058738   570.765047      21.039159   \n",
       "std     164.324665      0.514052      0.238285   443.677845      60.535107   \n",
       "min       0.000000      0.000000      0.000000     0.000000       0.000000   \n",
       "25%       0.000000      0.000000      0.000000   228.000000       0.000000   \n",
       "50%       0.000000      0.000000      0.000000   476.000000       0.000000   \n",
       "75%       0.000000      1.000000      0.000000   811.000000       0.000000   \n",
       "max    1474.000000      2.000000      2.000000  2336.000000     552.000000   \n",
       "\n",
       "       ...  OverallQual     PoolArea  ScreenPorch  TotRmsAbvGrd  TotalBsmtSF  \\\n",
       "count  ...  1379.000000  1379.000000  1379.000000   1379.000000  1379.000000   \n",
       "mean   ...     6.187092     2.920957    15.945613      6.552574  1074.445975   \n",
       "std    ...     1.345780    41.335545    57.249593      1.589821   436.371874   \n",
       "min    ...     2.000000     0.000000     0.000000      3.000000     0.000000   \n",
       "25%    ...     5.000000     0.000000     0.000000      5.000000   810.000000   \n",
       "50%    ...     6.000000     0.000000     0.000000      6.000000  1008.000000   \n",
       "75%    ...     7.000000     0.000000     0.000000      7.000000  1314.000000   \n",
       "max    ...    10.000000   738.000000   480.000000     12.000000  6110.000000   \n",
       "\n",
       "        WoodDeckSF    YearBuilt  YearRemodAdd       YrSold     SalePrice  \n",
       "count  1379.000000  1379.000000   1379.000000  1379.000000    1379.00000  \n",
       "mean     97.456853  1972.958666   1985.435098  2007.812183  185479.51124  \n",
       "std     126.699192    29.379883     20.444852     1.330221   79023.89060  \n",
       "min       0.000000  1880.000000   1950.000000  2006.000000   35311.00000  \n",
       "25%       0.000000  1955.000000   1968.000000  2007.000000  134000.00000  \n",
       "50%       0.000000  1976.000000   1994.000000  2008.000000  167500.00000  \n",
       "75%     171.000000  2001.000000   2004.000000  2009.000000  217750.00000  \n",
       "max     857.000000  2010.000000   2010.000000  2010.000000  755000.00000  \n",
       "\n",
       "[8 rows x 37 columns]"
      ]
     },
     "execution_count": 5,
     "metadata": {},
     "output_type": "execute_result"
    }
   ],
   "source": [
    "data.describe()"
   ]
  },
  {
   "cell_type": "code",
   "execution_count": 23,
   "id": "404d4ff2",
   "metadata": {},
   "outputs": [],
   "source": [
    "# Get a Pd.Series consisting of all the string categoricals\n",
    "one_hot_encode_cols = data.dtypes[data.dtypes == object]  # filtering by string categoricals\n",
    "one_hot_encode_cols = one_hot_encode_cols.index.tolist()  # list of categorical fields\n",
    "\n",
    "# Here we see another way of one-hot-encoding:\n",
    "# Encode these columns as categoricals so one hot encoding works on split data (if desired)\n",
    "for col in one_hot_encode_cols:\n",
    "    data[col] = pd.Categorical(data[col])\n",
    "\n",
    "# Do the one hot encoding\n",
    "data = pd.get_dummies(data, columns=one_hot_encode_cols, drop_first=True)"
   ]
  },
  {
   "cell_type": "code",
   "execution_count": 24,
   "id": "5710821d",
   "metadata": {},
   "outputs": [],
   "source": [
    "# Create a list of float colums to check for skewing\n",
    "mask = data.dtypes == float\n",
    "float_cols = data.columns[mask]\n",
    "\n",
    "skew_limit = 0.75 # define a limit above which we will log transform\n",
    "skew_vals = data[float_cols].skew()"
   ]
  },
  {
   "cell_type": "code",
   "execution_count": 25,
   "id": "98479639",
   "metadata": {},
   "outputs": [],
   "source": [
    "skew_cols = (skew_vals\n",
    "             .sort_values(ascending=False)\n",
    "             .to_frame()\n",
    "             .rename(columns={0:'Skew'})\n",
    "             .query('abs(Skew) > {}'.format(skew_limit)))"
   ]
  },
  {
   "cell_type": "code",
   "execution_count": 26,
   "id": "3e95d51f",
   "metadata": {},
   "outputs": [],
   "source": [
    "# Perform the skew transformation:\n",
    "\n",
    "for col in skew_cols.index.values:\n",
    "    if col == \"SalePrice\":\n",
    "        continue\n",
    "    data[col] = data[col].apply(np.log1p)"
   ]
  },
  {
   "cell_type": "code",
   "execution_count": 28,
   "id": "bfaf6e7a",
   "metadata": {},
   "outputs": [
    {
     "data": {
      "text/html": [
       "<div>\n",
       "<style scoped>\n",
       "    .dataframe tbody tr th:only-of-type {\n",
       "        vertical-align: middle;\n",
       "    }\n",
       "\n",
       "    .dataframe tbody tr th {\n",
       "        vertical-align: top;\n",
       "    }\n",
       "\n",
       "    .dataframe thead th {\n",
       "        text-align: right;\n",
       "    }\n",
       "</style>\n",
       "<table border=\"1\" class=\"dataframe\">\n",
       "  <thead>\n",
       "    <tr style=\"text-align: right;\">\n",
       "      <th></th>\n",
       "      <th>1stFlrSF</th>\n",
       "      <th>2ndFlrSF</th>\n",
       "      <th>3SsnPorch</th>\n",
       "      <th>BedroomAbvGr</th>\n",
       "      <th>BsmtFinSF1</th>\n",
       "      <th>BsmtFinSF2</th>\n",
       "      <th>BsmtFullBath</th>\n",
       "      <th>BsmtHalfBath</th>\n",
       "      <th>BsmtUnfSF</th>\n",
       "      <th>EnclosedPorch</th>\n",
       "      <th>...</th>\n",
       "      <th>SaleType_CWD</th>\n",
       "      <th>SaleType_Con</th>\n",
       "      <th>SaleType_ConLD</th>\n",
       "      <th>SaleType_ConLI</th>\n",
       "      <th>SaleType_ConLw</th>\n",
       "      <th>SaleType_New</th>\n",
       "      <th>SaleType_Oth</th>\n",
       "      <th>SaleType_WD</th>\n",
       "      <th>Street_Pave</th>\n",
       "      <th>Utilities_NoSeWa</th>\n",
       "    </tr>\n",
       "  </thead>\n",
       "  <tbody>\n",
       "    <tr>\n",
       "      <th>0</th>\n",
       "      <td>6.753438</td>\n",
       "      <td>6.751101</td>\n",
       "      <td>0.0</td>\n",
       "      <td>3</td>\n",
       "      <td>6.561031</td>\n",
       "      <td>0.0</td>\n",
       "      <td>1</td>\n",
       "      <td>0</td>\n",
       "      <td>5.017280</td>\n",
       "      <td>0.000000</td>\n",
       "      <td>...</td>\n",
       "      <td>0</td>\n",
       "      <td>0</td>\n",
       "      <td>0</td>\n",
       "      <td>0</td>\n",
       "      <td>0</td>\n",
       "      <td>0</td>\n",
       "      <td>0</td>\n",
       "      <td>1</td>\n",
       "      <td>1</td>\n",
       "      <td>0</td>\n",
       "    </tr>\n",
       "    <tr>\n",
       "      <th>1</th>\n",
       "      <td>7.141245</td>\n",
       "      <td>0.000000</td>\n",
       "      <td>0.0</td>\n",
       "      <td>3</td>\n",
       "      <td>6.886532</td>\n",
       "      <td>0.0</td>\n",
       "      <td>0</td>\n",
       "      <td>1</td>\n",
       "      <td>5.652489</td>\n",
       "      <td>0.000000</td>\n",
       "      <td>...</td>\n",
       "      <td>0</td>\n",
       "      <td>0</td>\n",
       "      <td>0</td>\n",
       "      <td>0</td>\n",
       "      <td>0</td>\n",
       "      <td>0</td>\n",
       "      <td>0</td>\n",
       "      <td>1</td>\n",
       "      <td>1</td>\n",
       "      <td>0</td>\n",
       "    </tr>\n",
       "    <tr>\n",
       "      <th>2</th>\n",
       "      <td>6.825460</td>\n",
       "      <td>6.765039</td>\n",
       "      <td>0.0</td>\n",
       "      <td>3</td>\n",
       "      <td>6.188264</td>\n",
       "      <td>0.0</td>\n",
       "      <td>1</td>\n",
       "      <td>0</td>\n",
       "      <td>6.075346</td>\n",
       "      <td>0.000000</td>\n",
       "      <td>...</td>\n",
       "      <td>0</td>\n",
       "      <td>0</td>\n",
       "      <td>0</td>\n",
       "      <td>0</td>\n",
       "      <td>0</td>\n",
       "      <td>0</td>\n",
       "      <td>0</td>\n",
       "      <td>1</td>\n",
       "      <td>1</td>\n",
       "      <td>0</td>\n",
       "    </tr>\n",
       "    <tr>\n",
       "      <th>3</th>\n",
       "      <td>6.869014</td>\n",
       "      <td>6.629363</td>\n",
       "      <td>0.0</td>\n",
       "      <td>3</td>\n",
       "      <td>5.379897</td>\n",
       "      <td>0.0</td>\n",
       "      <td>1</td>\n",
       "      <td>0</td>\n",
       "      <td>6.293419</td>\n",
       "      <td>5.609472</td>\n",
       "      <td>...</td>\n",
       "      <td>0</td>\n",
       "      <td>0</td>\n",
       "      <td>0</td>\n",
       "      <td>0</td>\n",
       "      <td>0</td>\n",
       "      <td>0</td>\n",
       "      <td>0</td>\n",
       "      <td>1</td>\n",
       "      <td>1</td>\n",
       "      <td>0</td>\n",
       "    </tr>\n",
       "    <tr>\n",
       "      <th>4</th>\n",
       "      <td>7.044033</td>\n",
       "      <td>6.960348</td>\n",
       "      <td>0.0</td>\n",
       "      <td>4</td>\n",
       "      <td>6.486161</td>\n",
       "      <td>0.0</td>\n",
       "      <td>1</td>\n",
       "      <td>0</td>\n",
       "      <td>6.196444</td>\n",
       "      <td>0.000000</td>\n",
       "      <td>...</td>\n",
       "      <td>0</td>\n",
       "      <td>0</td>\n",
       "      <td>0</td>\n",
       "      <td>0</td>\n",
       "      <td>0</td>\n",
       "      <td>0</td>\n",
       "      <td>0</td>\n",
       "      <td>1</td>\n",
       "      <td>1</td>\n",
       "      <td>0</td>\n",
       "    </tr>\n",
       "  </tbody>\n",
       "</table>\n",
       "<p>5 rows × 252 columns</p>\n",
       "</div>"
      ],
      "text/plain": [
       "   1stFlrSF  2ndFlrSF  3SsnPorch  BedroomAbvGr  BsmtFinSF1  BsmtFinSF2  \\\n",
       "0  6.753438  6.751101        0.0             3    6.561031         0.0   \n",
       "1  7.141245  0.000000        0.0             3    6.886532         0.0   \n",
       "2  6.825460  6.765039        0.0             3    6.188264         0.0   \n",
       "3  6.869014  6.629363        0.0             3    5.379897         0.0   \n",
       "4  7.044033  6.960348        0.0             4    6.486161         0.0   \n",
       "\n",
       "   BsmtFullBath  BsmtHalfBath  BsmtUnfSF  EnclosedPorch  ...  SaleType_CWD  \\\n",
       "0             1             0   5.017280       0.000000  ...             0   \n",
       "1             0             1   5.652489       0.000000  ...             0   \n",
       "2             1             0   6.075346       0.000000  ...             0   \n",
       "3             1             0   6.293419       5.609472  ...             0   \n",
       "4             1             0   6.196444       0.000000  ...             0   \n",
       "\n",
       "   SaleType_Con  SaleType_ConLD  SaleType_ConLI  SaleType_ConLw  SaleType_New  \\\n",
       "0             0               0               0               0             0   \n",
       "1             0               0               0               0             0   \n",
       "2             0               0               0               0             0   \n",
       "3             0               0               0               0             0   \n",
       "4             0               0               0               0             0   \n",
       "\n",
       "   SaleType_Oth  SaleType_WD  Street_Pave  Utilities_NoSeWa  \n",
       "0             0            1            1                 0  \n",
       "1             0            1            1                 0  \n",
       "2             0            1            1                 0  \n",
       "3             0            1            1                 0  \n",
       "4             0            1            1                 0  \n",
       "\n",
       "[5 rows x 252 columns]"
      ]
     },
     "execution_count": 28,
     "metadata": {},
     "output_type": "execute_result"
    }
   ],
   "source": [
    "data.head()"
   ]
  },
  {
   "cell_type": "markdown",
   "id": "8a513792",
   "metadata": {},
   "source": [
    "# Regression Models"
   ]
  },
  {
   "cell_type": "code",
   "execution_count": 18,
   "id": "fd91b642",
   "metadata": {},
   "outputs": [],
   "source": [
    "from sklearn.model_selection import train_test_split\n",
    "from sklearn.metrics import mean_squared_error\n",
    "from sklearn.preprocessing import StandardScaler, PolynomialFeatures\n",
    "from sklearn.model_selection import KFold, cross_val_predict\n",
    "from sklearn.linear_model import LinearRegression, Lasso, Ridge\n",
    "from sklearn.metrics import r2_score\n",
    "from sklearn.pipeline import Pipeline"
   ]
  },
  {
   "cell_type": "code",
   "execution_count": 29,
   "id": "d939fd40",
   "metadata": {},
   "outputs": [],
   "source": [
    "train, test = train_test_split(data, test_size=0.3, random_state=42)\n",
    "\n",
    "feature_cols = [x for x in train.columns if x != 'SalePrice']\n",
    "X_train = train[feature_cols]\n",
    "y_train = train['SalePrice']\n",
    "\n",
    "X_test  = test[feature_cols]\n",
    "y_test  = test['SalePrice']"
   ]
  },
  {
   "cell_type": "code",
   "execution_count": 30,
   "id": "d8c2d23a",
   "metadata": {},
   "outputs": [],
   "source": [
    "# root-mean-squared error function\n",
    "def rmse(ytrue, ypredicted):\n",
    "    return np.sqrt(mean_squared_error(ytrue, ypredicted))"
   ]
  },
  {
   "cell_type": "markdown",
   "id": "27934044",
   "metadata": {},
   "source": [
    "## Linear Regression"
   ]
  },
  {
   "cell_type": "code",
   "execution_count": 34,
   "id": "98a0de9e",
   "metadata": {},
   "outputs": [
    {
     "name": "stdout",
     "output_type": "stream",
     "text": [
      "78601.29338614641\n"
     ]
    }
   ],
   "source": [
    "## Linear Regression\n",
    "linearRegression = LinearRegression().fit(X_train, y_train)\n",
    "linearRegression_rmse = rmse(y_test, linearRegression.predict(X_test))\n",
    "\n",
    "print(linearRegression_rmse)"
   ]
  },
  {
   "cell_type": "code",
   "execution_count": 66,
   "id": "9420b318",
   "metadata": {},
   "outputs": [
    {
     "data": {
      "text/plain": [
       "0.46735711671763425"
      ]
     },
     "execution_count": 66,
     "metadata": {},
     "output_type": "execute_result"
    }
   ],
   "source": [
    "y_pred = linearRegression.predict(X_test)\n",
    "r2_score(y_pred, y_test)"
   ]
  },
  {
   "cell_type": "code",
   "execution_count": 38,
   "id": "5873cd6c",
   "metadata": {},
   "outputs": [
    {
     "data": {
      "image/png": "[encoded data removed]",
      "text/plain": [
       "<Figure size 864x360 with 1 Axes>"
      ]
     },
     "metadata": {
      "needs_background": "light"
     },
     "output_type": "display_data"
    }
   ],
   "source": [
    "plt.figure(figsize=(12,5))\n",
    "ax = plt.axes()\n",
    "\n",
    "ax.plot(y_test, linearRegression.predict(X_test), \n",
    "         marker='o', ls='', ms=3.0)\n",
    "\n",
    "lim = (0, y_test.max())\n",
    "\n",
    "ax.set(xlabel='Actual Price', \n",
    "       ylabel='Predicted Price', \n",
    "       xlim=lim,\n",
    "       ylim=lim,\n",
    "       title='Linear Regression Results');\n",
    "plt.show()"
   ]
  },
  {
   "cell_type": "markdown",
   "id": "286d8da8",
   "metadata": {},
   "source": [
    "## Ridge Regression"
   ]
  },
  {
   "cell_type": "code",
   "execution_count": 31,
   "id": "e60d28d9",
   "metadata": {},
   "outputs": [
    {
     "name": "stdout",
     "output_type": "stream",
     "text": [
      "The best alpha is: 10.0 with Root Mean Square Error: 32040.433237817062\n"
     ]
    }
   ],
   "source": [
    "from sklearn.linear_model import RidgeCV\n",
    "\n",
    "alphas = [0.005, 0.05, 0.1, 0.3, 1, 3, 5, 10, 15, 30, 80]\n",
    "\n",
    "ridgeCV = RidgeCV(alphas=alphas, \n",
    "                  cv=4).fit(X_train, y_train)\n",
    "\n",
    "ridgeCV_rmse = rmse(y_test, ridgeCV.predict(X_test))\n",
    "\n",
    "print(\"The best alpha is: {} with Root Mean Square Error: {}\".format(\n",
    "                                        ridgeCV.alpha_, ridgeCV_rmse))"
   ]
  },
  {
   "cell_type": "markdown",
   "id": "396cd4d7",
   "metadata": {},
   "source": [
    "## LASSO Regression"
   ]
  },
  {
   "cell_type": "code",
   "execution_count": 63,
   "id": "ebf4a91e",
   "metadata": {},
   "outputs": [
    {
     "name": "stdout",
     "output_type": "stream",
     "text": [
      "The best alpha is: 130.0 with Root Mean Square Error: 36543.496470680446\n"
     ]
    }
   ],
   "source": [
    "from sklearn.linear_model import LassoCV\n",
    "# Mute the sklearn warning about regularization\n",
    "import warnings\n",
    "warnings.filterwarnings('ignore', module='sklearn')\n",
    "\n",
    "alphas2 = np.array([1e-5, 5e-5, 0.0001, 0.0005, 0.001, 0.01, 0.1, 0.5, 1, 5, 10, 15, 20, 30, 40, 50, 60, 70, 80, 90, 100,\n",
    "                   110, 120, 130, 150, 200, 250, 300, 350, 400, 500, 600, 800, 1000])\n",
    "\n",
    "lassoCV = LassoCV(alphas=alphas2,\n",
    "                  max_iter=5e4,\n",
    "                  cv=3).fit(X_train, y_train)\n",
    "\n",
    "lassoCV_rmse = rmse(y_test, lassoCV.predict(X_test))\n",
    "\n",
    "# Lasso is slower\n",
    "print(\"The best alpha is: {} with Root Mean Square Error: {}\".format(\n",
    "                                        lassoCV.alpha_, lassoCV_rmse))"
   ]
  },
  {
   "cell_type": "code",
   "execution_count": 57,
   "id": "f50a1bb5",
   "metadata": {},
   "outputs": [
    {
     "name": "stdout",
     "output_type": "stream",
     "text": [
      "Of 251 coefficients, 233 are non-zero with Lasso.\n"
     ]
    }
   ],
   "source": [
    "print('Of {} coefficients, {} are non-zero with Lasso.'.format(len(lassoCV.coef_), \n",
    "                                                               len(lassoCV.coef_.nonzero()[0])))"
   ]
  },
  {
   "cell_type": "markdown",
   "id": "2ed92987",
   "metadata": {},
   "source": [
    "## Elastic Net Regression"
   ]
  },
  {
   "cell_type": "code",
   "execution_count": 50,
   "id": "f418a137",
   "metadata": {},
   "outputs": [
    {
     "name": "stdout",
     "output_type": "stream",
     "text": [
      "0.001 0.1 34615.47226839278\n"
     ]
    }
   ],
   "source": [
    "from sklearn.linear_model import ElasticNetCV\n",
    "\n",
    "l1_ratios = np.linspace(0.1, 0.9, 9)\n",
    "\n",
    "elasticNetCV = ElasticNetCV(alphas=alphas2, \n",
    "                            l1_ratio=l1_ratios,\n",
    "                            max_iter=1e4).fit(X_train, y_train)\n",
    "elasticNetCV_rmse = rmse(y_test, elasticNetCV.predict(X_test))\n",
    "\n",
    "print(elasticNetCV.alpha_, elasticNetCV.l1_ratio_, elasticNetCV_rmse)"
   ]
  },
  {
   "cell_type": "markdown",
   "id": "6caf731d",
   "metadata": {},
   "source": [
    "## Comparison of All Models"
   ]
  },
  {
   "cell_type": "code",
   "execution_count": 51,
   "id": "95c147b9",
   "metadata": {},
   "outputs": [
    {
     "data": {
      "text/html": [
       "<div>\n",
       "<style scoped>\n",
       "    .dataframe tbody tr th:only-of-type {\n",
       "        vertical-align: middle;\n",
       "    }\n",
       "\n",
       "    .dataframe tbody tr th {\n",
       "        vertical-align: top;\n",
       "    }\n",
       "\n",
       "    .dataframe thead th {\n",
       "        text-align: right;\n",
       "    }\n",
       "</style>\n",
       "<table border=\"1\" class=\"dataframe\">\n",
       "  <thead>\n",
       "    <tr style=\"text-align: right;\">\n",
       "      <th></th>\n",
       "      <th>RMSE</th>\n",
       "    </tr>\n",
       "  </thead>\n",
       "  <tbody>\n",
       "    <tr>\n",
       "      <th>Linear</th>\n",
       "      <td>78601.293386</td>\n",
       "    </tr>\n",
       "    <tr>\n",
       "      <th>Ridge</th>\n",
       "      <td>32040.433238</td>\n",
       "    </tr>\n",
       "    <tr>\n",
       "      <th>Lasso</th>\n",
       "      <td>88720.627985</td>\n",
       "    </tr>\n",
       "    <tr>\n",
       "      <th>ElasticNet</th>\n",
       "      <td>34615.472268</td>\n",
       "    </tr>\n",
       "  </tbody>\n",
       "</table>\n",
       "</div>"
      ],
      "text/plain": [
       "                    RMSE\n",
       "Linear      78601.293386\n",
       "Ridge       32040.433238\n",
       "Lasso       88720.627985\n",
       "ElasticNet  34615.472268"
      ]
     },
     "execution_count": 51,
     "metadata": {},
     "output_type": "execute_result"
    }
   ],
   "source": [
    "rmse_vals = [linearRegression_rmse, ridgeCV_rmse, lassoCV_rmse, elasticNetCV_rmse]\n",
    "\n",
    "labels = ['Linear', 'Ridge', 'Lasso', 'ElasticNet']\n",
    "\n",
    "rmse_df = pd.Series(rmse_vals, index=labels).to_frame()\n",
    "rmse_df.rename(columns={0: 'RMSE'}, inplace=1)\n",
    "rmse_df"
   ]
  },
  {
   "cell_type": "code",
   "execution_count": 52,
   "id": "d5d42f96",
   "metadata": {
    "scrolled": true
   },
   "outputs": [
    {
     "data": {
      "image/png": "[encoded data removed]",
      "text/plain": [
       "<Figure size 864x360 with 1 Axes>"
      ]
     },
     "metadata": {
      "needs_background": "light"
     },
     "output_type": "display_data"
    }
   ],
   "source": [
    "f = plt.figure(figsize=(12,5))\n",
    "ax = plt.axes()\n",
    "\n",
    "labels = ['Ridge', 'Lasso', 'ElasticNet']\n",
    "\n",
    "models = [ridgeCV, lassoCV, elasticNetCV]\n",
    "\n",
    "for mod, lab in zip(models, labels):\n",
    "    ax.plot(y_test, mod.predict(X_test), \n",
    "             marker='o', ls='', ms=3.0, label=lab)\n",
    "\n",
    "\n",
    "leg = plt.legend(frameon=True)\n",
    "leg.get_frame().set_edgecolor('black')\n",
    "leg.get_frame().set_linewidth(1.0)\n",
    "\n",
    "ax.set(xlabel='Actual Price', \n",
    "       ylabel='Predicted Price', \n",
    "       title='Linear Regression Results');"
   ]
  },
  {
   "cell_type": "markdown",
   "id": "dfd6ebf1",
   "metadata": {},
   "source": [
    "# Comparing Scores and R-Squared"
   ]
  },
  {
   "cell_type": "code",
   "execution_count": 58,
   "id": "8aba17fc",
   "metadata": {},
   "outputs": [],
   "source": [
    "s = StandardScaler()"
   ]
  },
  {
   "cell_type": "code",
   "execution_count": 65,
   "id": "1085f20c",
   "metadata": {},
   "outputs": [
    {
     "name": "stdout",
     "output_type": "stream",
     "text": [
      "r2 score for Ridge with alpha = 10.0: 0.7162546619909416\n",
      "r2 score for LASSO with alpha = 130.0: 0.7214883215161801\n",
      "r2 score for Linear Regression: -0.00198387307986736\n",
      "Magnitude of Lasso coefficients: 404185.54269450484\n",
      "Number of coeffients not equal to 0 for Lasso: 189\n",
      "Magnitude of Linear Regression coefficients: 1.0440080125253682e+17\n",
      "Number of coeffients not equal to 0 for Linear Regression: 248\n"
     ]
    }
   ],
   "source": [
    "# RIDGE \n",
    "\n",
    "ridge = Ridge(alpha = ridgeCV.alpha_)\n",
    "\n",
    "# Transforming training set to get standardized units\n",
    "X_train_s = s.fit_transform(X_train)\n",
    "\n",
    "# Fitting model to training set\n",
    "ridge.fit(X_train_s, y_train)\n",
    "\n",
    "# Transforming test set using the parameters defined from training set\n",
    "X_test_s = s.transform(X_test)\n",
    "\n",
    "# Finding prediction on test set\n",
    "y_pred = ridge.predict(X_test_s)\n",
    "\n",
    "# Calculating r2 score\n",
    "print(\"r2 score for Ridge with alpha = {}: {}\".format(ridgeCV.alpha_, r2_score(y_pred, y_test)))\n",
    "\n",
    "\n",
    "# LASSO\n",
    "\n",
    "las = Lasso(alpha = lassoCV.alpha_, max_iter=100000)\n",
    "\n",
    "# Transforming training set to get standardized units\n",
    "X_train_s = s.fit_transform(X_train)\n",
    "\n",
    "# Fitting model to training set\n",
    "las.fit(X_train_s, y_train)\n",
    "\n",
    "# Transforming test set using the parameters defined from training set\n",
    "X_test_s = s.transform(X_test)\n",
    "\n",
    "# Finding prediction on test set\n",
    "y_pred = las.predict(X_test_s)\n",
    "\n",
    "# Calculating r2 score\n",
    "print(\"r2 score for LASSO with alpha = {}: {}\".format(lassoCV.alpha_, r2_score(y_pred, y_test)))\n",
    "\n",
    "\n",
    "# Using vanilla Linear Regression\n",
    "\n",
    "lr = LinearRegression()\n",
    "\n",
    "# Fitting model to training set\n",
    "lr.fit(X_train_s, y_train)\n",
    "\n",
    "# predicting on test set\n",
    "y_pred_lr = lr.predict(X_test_s)\n",
    "\n",
    "# Calculating r2 score\n",
    "print(\"r2 score for Linear Regression:\", r2_score(y_pred_lr, y_test))\n",
    "\n",
    "\n",
    "# Part 3\n",
    "print('Magnitude of Lasso coefficients:', abs(las.coef_).sum())\n",
    "print('Number of coeffients not equal to 0 for Lasso:', (las.coef_!=0).sum())\n",
    "\n",
    "print('Magnitude of Linear Regression coefficients:', abs(lr.coef_).sum())\n",
    "print('Number of coeffients not equal to 0 for Linear Regression:', (lr.coef_!=0).sum())"
   ]
  }
 ],
 "metadata": {
  "kernelspec": {
   "display_name": "Python 3 (ipykernel)",
   "language": "python",
   "name": "python3"
  },
  "language_info": {
   "codemirror_mode": {
    "name": "ipython",
    "version": 3
   },
   "file_extension": ".py",
   "mimetype": "text/x-python",
   "name": "python",
   "nbconvert_exporter": "python",
   "pygments_lexer": "ipython3",
   "version": "3.7.11"
  }
 },
 "nbformat": 4,
 "nbformat_minor": 5
}
